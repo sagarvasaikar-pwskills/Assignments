{
 "cells": [
  {
   "cell_type": "raw",
   "id": "7685839c-c857-4b74-83b0-6848083d8039",
   "metadata": {},
   "source": [
    "Assignment 1"
   ]
  },
  {
   "cell_type": "raw",
   "id": "22a6ca2d-143c-40f3-a667-a0fc8c478a47",
   "metadata": {},
   "source": [
    "Q1. Create one variable containing following type of data:\n",
    "(i) string\n",
    "(ii) list\n",
    "(iii) float\n",
    "(iv) tuple"
   ]
  },
  {
   "cell_type": "code",
   "execution_count": 1,
   "id": "4f2bb802-c987-49b7-97f8-0b5be1b12f18",
   "metadata": {},
   "outputs": [],
   "source": [
    "#(i) string\n",
    "a='hello world'\n",
    "\n",
    "#(ii) list\n",
    "l=[1,54,4+5j,'hello']\n",
    "\n",
    "#(iii) float\n",
    "f=3.4\n",
    "\n",
    "#(iv) tuple\n",
    "b=('hello','world','how','are','you')"
   ]
  },
  {
   "cell_type": "raw",
   "id": "1ebe2b74-92d1-4a64-9290-e8179e68ec6c",
   "metadata": {},
   "source": [
    "Q2. Given are some following variables containing data:\n",
    "(i) var1 = ‘ ‘\n",
    "(ii) var2 = ‘[ DS , ML , Python]’\n",
    "(iii) var3 = [ ‘DS’ , ’ML’ , ‘Python’ ]\n",
    "(iv) var4 = 1.\n",
    "What will be the data type of the above given variable.\n",
    "\n",
    "Answers) i) String ii) String iii) list iv) float"
   ]
  },
  {
   "cell_type": "raw",
   "id": "18510a5b-4d58-43fc-aba9-ea372ed50920",
   "metadata": {},
   "source": [
    "Q3. Explain the use of the following operators using an example:\n",
    "Answers)\n",
    "(i) / - It is used for division eg. 4/2 will give 2\n",
    "(ii) % - It is used for modulus- gives you the remainder as the result after performing division eg. 5%2 will give 1\n",
    "(iii) // - It is used for floor division, which means it rounds off to the nearest whole number after division eg. 5//2 will give 2\n",
    "(iv) ** - It is used for exponential calculation eg. 2**2 will give 4."
   ]
  },
  {
   "cell_type": "raw",
   "id": "e64e3c01-7f60-4eb5-9e58-44c7228bb6f6",
   "metadata": {},
   "source": [
    "Q4. Create a list of length 10 of your choice containing multiple types of data. Using for loop print the\n",
    "element and its data type."
   ]
  },
  {
   "cell_type": "code",
   "execution_count": 2,
   "id": "c451cd73-82ae-476d-af41-32ef4f2b8c37",
   "metadata": {},
   "outputs": [
    {
     "data": {
      "text/plain": [
       "[4, (5+4j), 'hello', 2.0, True, 9, (2+2j), 'world', 55.5, False]"
      ]
     },
     "execution_count": 2,
     "metadata": {},
     "output_type": "execute_result"
    }
   ],
   "source": [
    "l=[4,5+4j,'hello',2.0,True,9,2+2j,'world',55.5,False]\n",
    "l"
   ]
  },
  {
   "cell_type": "code",
   "execution_count": 3,
   "id": "06c2e286-edec-4264-b8ac-4253c9cca04d",
   "metadata": {},
   "outputs": [
    {
     "name": "stdout",
     "output_type": "stream",
     "text": [
      "4\n",
      "<class 'int'>\n",
      "(5+4j)\n",
      "<class 'complex'>\n",
      "hello\n",
      "<class 'str'>\n",
      "2.0\n",
      "<class 'float'>\n",
      "True\n",
      "<class 'bool'>\n",
      "9\n",
      "<class 'int'>\n",
      "(2+2j)\n",
      "<class 'complex'>\n",
      "world\n",
      "<class 'str'>\n",
      "55.5\n",
      "<class 'float'>\n",
      "False\n",
      "<class 'bool'>\n"
     ]
    }
   ],
   "source": [
    "for i in l:\n",
    "    print (i)\n",
    "    print(type(i))"
   ]
  },
  {
   "cell_type": "raw",
   "id": "f9a475ad-de59-4a7c-8212-810840c04399",
   "metadata": {},
   "source": [
    "Q5. Using a while loop, verify if the number A is purely divisible by number B and if so then how many\n",
    "times it can be divisible."
   ]
  },
  {
   "cell_type": "code",
   "execution_count": 4,
   "id": "304b1dcb-8dd0-494d-abbf-d7c08210cd60",
   "metadata": {},
   "outputs": [
    {
     "name": "stdin",
     "output_type": "stream",
     "text": [
      " 10\n"
     ]
    }
   ],
   "source": [
    "a=int(input()) \n"
   ]
  },
  {
   "cell_type": "code",
   "execution_count": 5,
   "id": "0f91ba90-60a4-4724-ba9d-e00f9b179312",
   "metadata": {},
   "outputs": [
    {
     "name": "stdin",
     "output_type": "stream",
     "text": [
      " 2\n"
     ]
    }
   ],
   "source": [
    "b=int(input()) "
   ]
  },
  {
   "cell_type": "code",
   "execution_count": 6,
   "id": "c2eefe91-9f2d-4356-866c-1f81b58950d6",
   "metadata": {},
   "outputs": [
    {
     "name": "stdout",
     "output_type": "stream",
     "text": [
      "It is purely divisible\n"
     ]
    }
   ],
   "source": [
    "while a % b == 0:\n",
    "    print('It is purely divisible')\n",
    "    break\n",
    "else:\n",
    "    print('It is not purely divisible')"
   ]
  },
  {
   "cell_type": "raw",
   "id": "2c979a0a-711e-479c-bdb3-fc4375e10fc9",
   "metadata": {},
   "source": [
    "Q6. Create a list containing 25 int type data. Using for loop and if-else condition print if the element is\n",
    "divisible by 3 or not."
   ]
  },
  {
   "cell_type": "code",
   "execution_count": 7,
   "id": "1223667c-f197-4ab1-adfd-c0ff33dcb061",
   "metadata": {},
   "outputs": [
    {
     "name": "stdout",
     "output_type": "stream",
     "text": [
      "25\n",
      "3 is divisible by 3\n",
      "6 is divisible by 3\n",
      "8 is not divisible by 3\n",
      "13 is not divisible by 3\n",
      "16 is not divisible by 3\n",
      "18 is divisible by 3\n",
      "21 is divisible by 3\n",
      "23 is not divisible by 3\n",
      "27 is divisible by 3\n",
      "30 is divisible by 3\n",
      "32 is not divisible by 3\n",
      "36 is divisible by 3\n",
      "38 is not divisible by 3\n",
      "42 is divisible by 3\n",
      "44 is not divisible by 3\n",
      "49 is not divisible by 3\n",
      "53 is not divisible by 3\n",
      "66 is divisible by 3\n",
      "77 is not divisible by 3\n",
      "88 is not divisible by 3\n",
      "99 is divisible by 3\n",
      "100 is not divisible by 3\n",
      "101 is not divisible by 3\n",
      "104 is not divisible by 3\n",
      "110 is not divisible by 3\n"
     ]
    }
   ],
   "source": [
    "l=[3,6,8,13,16,18,21,23,27,30,32,36,38,42,44,49,53,66,77,88,99,100,101,104,110]\n",
    "print(len(l))\n",
    "\n",
    "for i in l:\n",
    "    if i%3==0:\n",
    "        print(f'{i} is divisible by 3')\n",
    "    else:\n",
    "        print(f'{i} is not divisible by 3')"
   ]
  },
  {
   "cell_type": "raw",
   "id": "79b0b734-b2cf-4c39-a7c7-0c2439348f65",
   "metadata": {},
   "source": [
    "Q7. What do you understand about mutable and immutable data types? Give examples for both showing\n",
    "this property.\n"
   ]
  },
  {
   "cell_type": "code",
   "execution_count": 8,
   "id": "41581c99-722c-4e93-8bfd-de47e2d58db0",
   "metadata": {},
   "outputs": [
    {
     "data": {
      "text/plain": [
       "[10, (5+4j), 'hello', 2.0, True, 9, (2+2j), 'world', 22.2, False]"
      ]
     },
     "execution_count": 8,
     "metadata": {},
     "output_type": "execute_result"
    }
   ],
   "source": [
    "l=[4,5+4j,'hello',2.0,True,9,2+2j,'world',55.5,False]\n",
    "l[0]=10 #forward index\n",
    "l[-2]=22.2 #backward index\n",
    "l"
   ]
  },
  {
   "cell_type": "raw",
   "id": "2f007678-c06c-43ae-a3f5-4c905a3e77c1",
   "metadata": {},
   "source": [
    "Answer) Mutable data types means they can be reassigned i.e. their indexes can be reassigned using forward or backward indexing \n",
    "for eg. List is mutable data type\n",
    "As you can see in above eg. I changed the first element from 4 to 10 and second last element from 55.5 to 22.2"
   ]
  },
  {
   "cell_type": "code",
   "execution_count": 9,
   "id": "1a36fbae-3c2b-45ea-9fc4-ef0c17ccd99e",
   "metadata": {},
   "outputs": [
    {
     "ename": "TypeError",
     "evalue": "'str' object does not support item assignment",
     "output_type": "error",
     "traceback": [
      "\u001b[0;31m---------------------------------------------------------------------------\u001b[0m",
      "\u001b[0;31mTypeError\u001b[0m                                 Traceback (most recent call last)",
      "Cell \u001b[0;32mIn[9], line 2\u001b[0m\n\u001b[1;32m      1\u001b[0m s\u001b[38;5;241m=\u001b[39m\u001b[38;5;124m'\u001b[39m\u001b[38;5;124mhello\u001b[39m\u001b[38;5;124m'\u001b[39m\n\u001b[0;32m----> 2\u001b[0m \u001b[43ms\u001b[49m\u001b[43m[\u001b[49m\u001b[38;5;241;43m1\u001b[39;49m\u001b[43m]\u001b[49m\u001b[38;5;241m=\u001b[39ma\n\u001b[1;32m      3\u001b[0m s\n",
      "\u001b[0;31mTypeError\u001b[0m: 'str' object does not support item assignment"
     ]
    }
   ],
   "source": [
    "s='hello'\n",
    "s[1]=a\n",
    "s"
   ]
  },
  {
   "cell_type": "raw",
   "id": "914b2c03-da10-4710-9f5a-250172df1145",
   "metadata": {},
   "source": [
    "Answer) Immutable data types means they cannot be reassigned i.e. their indexes cannot be reassigned using forward or backward indexing \n",
    "for eg. Sting is immutable data type\n",
    "As you can see in above eg. I tried to change the second element which was 'e' to 'a' and it gave me an error "
   ]
  }
 ],
 "metadata": {
  "kernelspec": {
   "display_name": "Python 3 (ipykernel)",
   "language": "python",
   "name": "python3"
  },
  "language_info": {
   "codemirror_mode": {
    "name": "ipython",
    "version": 3
   },
   "file_extension": ".py",
   "mimetype": "text/x-python",
   "name": "python",
   "nbconvert_exporter": "python",
   "pygments_lexer": "ipython3",
   "version": "3.10.8"
  }
 },
 "nbformat": 4,
 "nbformat_minor": 5
}
